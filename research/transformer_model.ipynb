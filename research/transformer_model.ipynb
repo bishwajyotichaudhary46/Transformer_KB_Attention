{
 "cells": [
  {
   "cell_type": "code",
   "execution_count": 2,
   "id": "e737e6da",
   "metadata": {},
   "outputs": [],
   "source": [
    "import torch\n",
    "import torch.nn as nn\n",
    "import math"
   ]
  },
  {
   "cell_type": "code",
   "execution_count": 2,
   "id": "693e8b47",
   "metadata": {},
   "outputs": [],
   "source": [
    "# check cuda is available or not \n",
    "device = 'cuda' if torch.cuda.is_available() else 'cpu'"
   ]
  },
  {
   "cell_type": "code",
   "execution_count": 4,
   "id": "a1830c5d",
   "metadata": {},
   "outputs": [],
   "source": [
    "def even_position( p, i, dim):\n",
    "    return math.sin(p/(10000**((2*i)/dim)))\n",
    "\n",
    "def odd_position( p, i, dim):\n",
    "    return math.cos(p/(10000**((2*i)/dim)))\n",
    "\n",
    "def postional_encoding(tokens_len, embed_dim):\n",
    "    postional_encodings = []\n",
    "    for p in range(tokens_len):\n",
    "        token_postion = []\n",
    "        for i in  range(embed_dim):\n",
    "            if i % 2 == 0:\n",
    "                token_postion.append(even_position( p, i, embed_dim))\n",
    "            else:\n",
    "                token_postion.append(even_position( p, i, embed_dim))\n",
    "        postional_encodings.append(token_postion)\n",
    "    return postional_encodings\n",
    "\n"
   ]
  },
  {
   "cell_type": "code",
   "execution_count": 5,
   "id": "a2e5f7db",
   "metadata": {},
   "outputs": [],
   "source": [
    "class SelfAttention(nn.Module):\n",
    "    def __init__(self, embed_dim, dim):\n",
    "        super().__init__()\n",
    "        self.query_w = nn.Linear(embed_dim, dim)\n",
    "        self.key_w = nn.Linear(embed_dim, dim)\n",
    "        self.value_w = nn.Linear(embed_dim, dim)\n",
    "        self.softmax = nn.Softmax(dim=-1)  \n",
    "    def forward(self, embed):\n",
    "        query = self.query_w(embed)\n",
    "        key = self.key_w(embed)\n",
    "        value = self.value_w(embed)\n",
    "        scores = torch.matmul(query, key.transpose(-2, -1)) / (key.shape[-1] ** 0.5)\n",
    "        attn_weights = self.softmax(scores)\n",
    "        attended = torch.matmul(attn_weights, value)\n",
    "        return attended"
   ]
  },
  {
   "cell_type": "code",
   "execution_count": 6,
   "id": "315589f1",
   "metadata": {},
   "outputs": [],
   "source": [
    "class MultiheadAttention(nn.Module):\n",
    "    def __init__(self, num_heads, embed_dim, head_dim):\n",
    "        super().__init__()\n",
    "        self.num_heads = num_heads\n",
    "        self.head_dim = head_dim\n",
    "        self.embed_dim = embed_dim\n",
    "\n",
    "        self.multi_head_attn = nn.ModuleList([\n",
    "            SelfAttention(embed_dim, head_dim) for _ in range(num_heads)\n",
    "        ])\n",
    "        self.W = nn.Linear(num_heads * head_dim, embed_dim)\n",
    "\n",
    "    def forward(self, embed):\n",
    "        heads = [head(embed) for head in self.multi_head_attn]\n",
    "        heads_cat = torch.cat(heads, dim=-1)\n",
    "        output = self.W(heads_cat)\n",
    "        return output\n",
    "\n",
    "\n",
    "        "
   ]
  },
  {
   "cell_type": "code",
   "execution_count": 3,
   "id": "e05f1bd0",
   "metadata": {},
   "outputs": [],
   "source": [
    "class LayerNormalization(nn.Module):\n",
    "    def __init__(self, embed_dim, eps=1e-5):\n",
    "        super(LayerNormalization, self).__init__()\n",
    "        self.alpha = nn.Parameter(torch.ones(embed_dim))  \n",
    "        self.beta = nn.Parameter(torch.zeros(embed_dim))  \n",
    "        self.eps = eps\n",
    "\n",
    "    def forward(self, embed):\n",
    "        mean = embed.mean(dim=-1, keepdim=True)\n",
    "        var = embed.var(dim=-1, keepdim=True, unbiased=False)\n",
    "        normalized = (embed - mean) / torch.sqrt(var + self.eps)\n",
    "\n",
    "        return self.alpha * normalized + self.beta\n"
   ]
  },
  {
   "cell_type": "code",
   "execution_count": 4,
   "id": "cdbd923d",
   "metadata": {},
   "outputs": [],
   "source": [
    "class FeedForward(nn.Module):\n",
    "    def __init__(self, embed_dim):\n",
    "        super().__init__()\n",
    "        self.W1 = nn.Linear(embed_dim, embed_dim)\n",
    "        self.W2 = nn.Linear(embed_dim, embed_dim)\n",
    "        self.dropout = nn.Dropout(0.2)\n",
    "\n",
    "    def forward(self, embed):\n",
    "        x = self.W1(embed)\n",
    "        x = self.dropout(x)\n",
    "        x = self.W2(x)  \n",
    "        return x\n"
   ]
  },
  {
   "cell_type": "code",
   "execution_count": 5,
   "id": "4c8a118a",
   "metadata": {},
   "outputs": [],
   "source": [
    "class Encoder(nn.Module):\n",
    "    def __init__(self, num_heads, embed_dim, head_dim):\n",
    "        super().__init__()  \n",
    "        self.multiheadattention = MultiheadAttention(num_heads, embed_dim, head_dim)\n",
    "        self.layernorm1 = nn.LayerNorm(embed_dim)  \n",
    "        self.feedforward = FeedForward(embed_dim)\n",
    "        self.layernorm2 = nn.LayerNorm(embed_dim)\n",
    "\n",
    "    def forward(self, x):\n",
    "        atten_x = self.multiheadattention(x)\n",
    "        x = self.layernorm1(atten_x + x)\n",
    "        ff_out = self.feedforward(x)\n",
    "        x = self.layernorm2(ff_out + x)\n",
    "        return x\n"
   ]
  },
  {
   "cell_type": "code",
   "execution_count": 7,
   "id": "ae51836f",
   "metadata": {},
   "outputs": [],
   "source": [
    "class StackEncoder(nn.Module):\n",
    "    def __init__(self, num_heads, embed_dim, head_dim):\n",
    "        super().__init__()\n",
    "        self.encoders = nn.Sequential(\n",
    "            *[Encoder(num_heads, embed_dim, head_dim) for _ in range(6)]\n",
    "        )\n",
    "    \n",
    "    def forward(self, x):\n",
    "        return self.encoders(x)\n"
   ]
  },
  {
   "cell_type": "code",
   "execution_count": null,
   "id": "92d451fd",
   "metadata": {},
   "outputs": [],
   "source": []
  }
 ],
 "metadata": {
  "kernelspec": {
   "display_name": "kb_env",
   "language": "python",
   "name": "python3"
  },
  "language_info": {
   "codemirror_mode": {
    "name": "ipython",
    "version": 3
   },
   "file_extension": ".py",
   "mimetype": "text/x-python",
   "name": "python",
   "nbconvert_exporter": "python",
   "pygments_lexer": "ipython3",
   "version": "3.10.0"
  }
 },
 "nbformat": 4,
 "nbformat_minor": 5
}
