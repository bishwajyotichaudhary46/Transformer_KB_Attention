{
 "cells": [
  {
   "cell_type": "code",
   "execution_count": 2,
   "id": "e737e6da",
   "metadata": {},
   "outputs": [],
   "source": [
    "import torch\n",
    "import torch.nn as nn\n",
    "import math"
   ]
  },
  {
   "cell_type": "code",
   "execution_count": 2,
   "id": "693e8b47",
   "metadata": {},
   "outputs": [],
   "source": [
    "# check cuda is available or not \n",
    "device = 'cuda' if torch.cuda.is_available() else 'cpu'"
   ]
  },
  {
   "cell_type": "code",
   "execution_count": 5,
   "id": "a2e5f7db",
   "metadata": {},
   "outputs": [],
   "source": [
    "class SelfAttention(nn.Module):\n",
    "    def __init__(self, embed_dim, dim):\n",
    "        super().__init__()\n",
    "        self.query_w = nn.Linear(embed_dim, dim)\n",
    "        self.key_w = nn.Linear(embed_dim, dim)\n",
    "        self.value_w = nn.Linear(embed_dim, dim)\n",
    "        self.softmax = nn.Softmax(dim=-1)  \n",
    "    def forward(self, embed):\n",
    "        query = self.query_w(embed)\n",
    "        key = self.key_w(embed)\n",
    "        value = self.value_w(embed)\n",
    "        scores = torch.matmul(query, key.transpose(-2, -1)) / (key.shape[-1] ** 0.5)\n",
    "        attn_weights = self.softmax(scores)\n",
    "        attended = torch.matmul(attn_weights, value)\n",
    "        return attended"
   ]
  },
  {
   "cell_type": "code",
   "execution_count": 6,
   "id": "315589f1",
   "metadata": {},
   "outputs": [],
   "source": [
    "class MultiheadAttention(nn.Module):\n",
    "    def __init__(self, num_heads, embed_dim, head_dim):\n",
    "        super().__init__()\n",
    "        self.num_heads = num_heads\n",
    "        self.head_dim = head_dim\n",
    "        self.embed_dim = embed_dim\n",
    "\n",
    "        self.multi_head_attn = nn.ModuleList([\n",
    "            SelfAttention(embed_dim, head_dim) for _ in range(num_heads)\n",
    "        ])\n",
    "        self.W = nn.Linear(num_heads * head_dim, embed_dim)\n",
    "\n",
    "    def forward(self, embed):\n",
    "        heads = [head(embed) for head in self.multi_head_attn]\n",
    "        heads_cat = torch.cat(heads, dim=-1)\n",
    "        output = self.W(heads_cat)\n",
    "        return output\n",
    "\n",
    "\n",
    "        "
   ]
  },
  {
   "cell_type": "code",
   "execution_count": 3,
   "id": "e05f1bd0",
   "metadata": {},
   "outputs": [],
   "source": [
    "class LayerNormalization(nn.Module):\n",
    "    def __init__(self, embed_dim, eps=1e-5):\n",
    "        super(LayerNormalization, self).__init__()\n",
    "        self.alpha = nn.Parameter(torch.ones(embed_dim))  \n",
    "        self.beta = nn.Parameter(torch.zeros(embed_dim))  \n",
    "        self.eps = eps\n",
    "\n",
    "    def forward(self, embed):\n",
    "        mean = embed.mean(dim=-1, keepdim=True)\n",
    "        var = embed.var(dim=-1, keepdim=True, unbiased=False)\n",
    "        normalized = (embed - mean) / torch.sqrt(var + self.eps)\n",
    "\n",
    "        return self.alpha * normalized + self.beta\n"
   ]
  },
  {
   "cell_type": "code",
   "execution_count": 4,
   "id": "cdbd923d",
   "metadata": {},
   "outputs": [],
   "source": [
    "class FeedForward(nn.Module):\n",
    "    def __init__(self, embed_dim):\n",
    "        super().__init__()\n",
    "        self.W1 = nn.Linear(embed_dim, embed_dim)\n",
    "        self.W2 = nn.Linear(embed_dim, embed_dim)\n",
    "        self.dropout = nn.Dropout(0.2)\n",
    "\n",
    "    def forward(self, embed):\n",
    "        x = self.W1(embed)\n",
    "        x = self.dropout(x)\n",
    "        x = self.W2(x)  \n",
    "        return x\n"
   ]
  },
  {
   "cell_type": "code",
   "execution_count": 9,
   "id": "4c8a118a",
   "metadata": {},
   "outputs": [],
   "source": [
    "class Encoder(nn.Module):\n",
    "    def __init__(self, num_heads, embed_dim, head_dim):\n",
    "        super().__init__()  \n",
    "        self.multiheadattention = MultiheadAttention(num_heads, embed_dim, head_dim)\n",
    "        self.layernorm1 = nn.LayerNorm(embed_dim)  \n",
    "        self.feedforward = FeedForward(embed_dim)\n",
    "        self.layernorm2 = nn.LayerNorm(embed_dim)\n",
    "\n",
    "    def forward(self, x):\n",
    "        atten_x = self.multiheadattention(x)\n",
    "        x = self.layernorm1(atten_x + x)\n",
    "        ff_out = self.feedforward(x)\n",
    "        x = self.layernorm2(ff_out + x)\n",
    "        return x"
   ]
  },
  {
   "cell_type": "code",
   "execution_count": 8,
   "id": "ae51836f",
   "metadata": {},
   "outputs": [],
   "source": [
    "class StackEncoder(nn.Module):\n",
    "    def __init__(self, num_heads, embed_dim, head_dim):\n",
    "        super().__init__()\n",
    "        self.encoders = nn.Sequential(\n",
    "            *[Encoder(num_heads, embed_dim, head_dim) for _ in range(6)]\n",
    "        )\n",
    "    \n",
    "    def forward(self, x):\n",
    "        return self.encoders(x)"
   ]
  },
  {
   "cell_type": "code",
   "execution_count": 37,
   "id": "f4c8ebdf",
   "metadata": {},
   "outputs": [],
   "source": [
    "def mask_mat(len_seq):\n",
    "    mask_mat = torch.zeros(len_seq, len_seq)\n",
    "    for i in range(len_seq):\n",
    "        for j in range(len_seq):\n",
    "            if i < j:\n",
    "                mask_mat[i][j] = float(\"-inf\")\n",
    "    return mask_mat"
   ]
  },
  {
   "cell_type": "code",
   "execution_count": 18,
   "id": "7e363e07",
   "metadata": {},
   "outputs": [],
   "source": [
    "class MaskAttention(nn.Module):\n",
    "    def __init__(self, embed_dim):\n",
    "        super().__init__()\n",
    "        self.q_w = nn.Linear(embed_dim, embed_dim)\n",
    "        self.k_w = nn.Linear(embed_dim, embed_dim)\n",
    "        self.v_w = nn.Linear(embed_dim, embed_dim) \n",
    "        self.softmax = nn.Softmax(dim=-1)  \n",
    "\n",
    "    def forward(self, embed, mask_mat=None):\n",
    "        query = self.q_w(embed)\n",
    "        key = self.k_w(embed)\n",
    "        value = self.v_w(embed)\n",
    "        atten_score = torch.matmul(query, key.transpose(-2, -1)) / (key.shape[-1] ** 0.5)\n",
    "         \n",
    "        if mask_mat is not None:\n",
    "            atten_score = atten_score + mask_mat  \n",
    "            \n",
    "        mask_atten_weight = self.softmax(atten_score)\n",
    "        attended = torch.matmul(mask_atten_weight, value)\n",
    "        return attended\n"
   ]
  },
  {
   "cell_type": "code",
   "execution_count": 19,
   "id": "92d451fd",
   "metadata": {},
   "outputs": [],
   "source": [
    "class MaskMultiheadAttention(nn.Module):\n",
    "    def __init__(self, num_heads, embed_dim):\n",
    "        super().__init__()\n",
    "        self.num_heads = num_heads\n",
    "        self.embed_dim = embed_dim\n",
    "\n",
    "        self.multi_head_attn = nn.ModuleList([\n",
    "            MaskAttention(embed_dim,embed_dim) for _ in range(num_heads)\n",
    "        ])\n",
    "        self.W = nn.Linear(num_heads * embed_dim, embed_dim)\n",
    "\n",
    "    def forward(self, embed, mask_mat):\n",
    "        heads = [head(embed, mask_mat) for head in self.multi_head_attn]\n",
    "        heads_cat = torch.cat(heads, dim=-1)\n",
    "        output = self.W(heads_cat)\n",
    "        return output\n"
   ]
  },
  {
   "cell_type": "code",
   "execution_count": 20,
   "id": "c031ef84",
   "metadata": {},
   "outputs": [],
   "source": [
    "class CrossAttention(nn.Module):\n",
    "    def __init__(self, embed_dim):\n",
    "        super().__init__()\n",
    "        self.q_w = nn.Linear(embed_dim, embed_dim)\n",
    "        self.k_w = nn.Linear(embed_dim, embed_dim)\n",
    "        self.v_w = nn.Linear(embed_dim, embed_dim)\n",
    "        self.softmax = nn.Softmax(dim=-1)\n",
    "\n",
    "    def forward(self, x, y):\n",
    "        query = self.q_w(y)\n",
    "        key = self.k_w(x)\n",
    "        value = self.v_w(x)\n",
    "        atten_score = torch.matmul(query , key.transpose(-2,-1)) / (key.shape[-1] ** 0.5)\n",
    "        atten_weight = self.softmax(atten_score)\n",
    "        attention = torch.matmul(atten_weight, value)\n",
    "        return attention"
   ]
  },
  {
   "cell_type": "code",
   "execution_count": 22,
   "id": "cf674650",
   "metadata": {},
   "outputs": [],
   "source": [
    "class MultiheadCrossAttention(nn.Module):\n",
    "    def __init__(self,embed_dim, num_head):\n",
    "        super().__init__()\n",
    "        self.atten_list = nn.ModuleList([CrossAttention(embed_dim) for _ in range(num_head)])\n",
    "        self.W = nn.Linear(embed_dim * num_head, embed_dim)\n",
    "\n",
    "    def forward(self, x, y):\n",
    "        heads = [ head(x,y) for head in self.atten_list]\n",
    "        heads_cat = torch.cat(heads, dim=-1)\n",
    "        out = self.W(heads_cat)\n",
    "        return out"
   ]
  },
  {
   "cell_type": "code",
   "execution_count": 24,
   "id": "f24b1d07",
   "metadata": {},
   "outputs": [],
   "source": [
    "class Decoder(nn.Module):\n",
    "    def __init__(self, embed_dim, num_heads):\n",
    "        super().__init__()\n",
    "        self.mask_attention = MaskMultiheadAttention(num_heads, embed_dim)\n",
    "        self.layer_norm_1 = LayerNormalization(embed_dim)\n",
    "        self.cross_attention = MultiheadCrossAttention(embed_dim, num_heads)\n",
    "        self.layer_norm_2 = LayerNormalization(embed_dim)\n",
    "        self.feed_forward = FeedForward(embed_dim)\n",
    "        self.layer_norm_3 = LayerNormalization(embed_dim)\n",
    "\n",
    "    def forward(self, x, y, mask_mat):\n",
    "        mask_atten = self.mask_attention(y, mask_mat)\n",
    "        y_norm = self.layer_norm_1(mask_atten + y)\n",
    "        cross_atten = self.cross_attention(x, y_norm)\n",
    "        cross_norm = self.layer_norm_2(cross_atten + x)\n",
    "        ff_out = self.feed_forward(cross_norm)\n",
    "        out_norm = self.layer_norm_3(ff_out + cross_norm)\n",
    "        return out_norm\n"
   ]
  },
  {
   "cell_type": "code",
   "execution_count": 38,
   "id": "2fc4fdfb",
   "metadata": {},
   "outputs": [],
   "source": [
    "class DecoderStack(nn.Module):\n",
    "    def __init__(self, embed_dim, num_heads):\n",
    "        super().__init__()\n",
    "        self.decoders = nn.ModuleList([\n",
    "            Decoder(embed_dim, num_heads) for _ in range(6)\n",
    "        ])\n",
    "\n",
    "    def forward(self, x, y, mask_mat):\n",
    "        for decoder in self.decoders:\n",
    "            y = decoder(x, y, mask_mat)\n",
    "        return y\n"
   ]
  },
  {
   "cell_type": "code",
   "execution_count": 33,
   "id": "6ca2ddd9",
   "metadata": {},
   "outputs": [],
   "source": [
    "def even_position(p, i, dim):\n",
    "    return math.sin(p / (10000 ** ((2 * i) / dim)))\n",
    "\n",
    "def odd_position(p, i, dim):\n",
    "    return math.cos(p / (10000 ** ((2 * i) / dim)))\n",
    "\n",
    "def positional_encoding(tokens_len, embed_dim):\n",
    "    positional_encodings = []\n",
    "    for p in range(tokens_len):\n",
    "        token_position = []\n",
    "        for i in range(embed_dim):\n",
    "            if i % 2 == 0:\n",
    "                token_position.append(even_position(p, i, embed_dim))\n",
    "            else:\n",
    "                token_position.append(odd_position(p, i, embed_dim))\n",
    "        positional_encodings.append(torch.tensor(token_position))\n",
    "    return torch.stack(positional_encodings)\n"
   ]
  },
  {
   "cell_type": "code",
   "execution_count": 36,
   "id": "54018af0",
   "metadata": {},
   "outputs": [
    {
     "data": {
      "text/plain": [
       "torch.Size([10, 1024])"
      ]
     },
     "execution_count": 36,
     "metadata": {},
     "output_type": "execute_result"
    }
   ],
   "source": [
    "positional_encoding(10, 1024).shape"
   ]
  },
  {
   "cell_type": "code",
   "execution_count": 39,
   "id": "e93c692c",
   "metadata": {},
   "outputs": [],
   "source": [
    "class TransformerBlock(nn.Module):\n",
    "    def __init__(self, num_heads, embed_dim, vocab_size):\n",
    "        super().__init__()\n",
    "        self.encoder = StackEncoder(num_heads, embed_dim, embed_dim)\n",
    "        self.decoders = DecoderStack(embed_dim, num_heads)\n",
    "        self.linear = nn.Linear(embed_dim, vocab_size)\n",
    "        self.softmax = nn.Softmax(dim=-1)\n",
    "\n",
    "    def forward(self, x, y, mask_mat, postional_encoding):\n",
    "        x = x + postional_encoding\n",
    "        y = y + postional_encoding\n",
    "        x = self.encoder(x)\n",
    "        y = self.decoders(x,y, mask_mat)\n",
    "        out = self.linear(y)\n",
    "        out = self.softmax(out)\n",
    "        return out"
   ]
  },
  {
   "cell_type": "code",
   "execution_count": null,
   "id": "ed7796d0",
   "metadata": {},
   "outputs": [],
   "source": []
  }
 ],
 "metadata": {
  "kernelspec": {
   "display_name": "kb_env",
   "language": "python",
   "name": "python3"
  },
  "language_info": {
   "codemirror_mode": {
    "name": "ipython",
    "version": 3
   },
   "file_extension": ".py",
   "mimetype": "text/x-python",
   "name": "python",
   "nbconvert_exporter": "python",
   "pygments_lexer": "ipython3",
   "version": "3.10.0"
  }
 },
 "nbformat": 4,
 "nbformat_minor": 5
}
